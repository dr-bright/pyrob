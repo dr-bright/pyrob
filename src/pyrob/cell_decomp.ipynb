{
 "cells": [
  {
   "cell_type": "code",
   "execution_count": 113,
   "metadata": {},
   "outputs": [],
   "source": [
    "import numpy as np\n",
    "import matplotlib.pyplot as plt\n",
    "import graph"
   ]
  },
  {
   "cell_type": "code",
   "execution_count": 68,
   "metadata": {},
   "outputs": [],
   "source": [
    "a = np.array([1,2,3,4])\n",
    "rob_map = np.zeros((3,11,11), dtype = np.uint8)\n",
    "\n",
    "rob_map[:,5,3:8] = 1\n",
    "rob_map[:,3:8,5] = 1\n",
    "rob_map[:,4,[4,6]] = 1\n",
    "rob_map[:,6, [4, 6]] = 1"
   ]
  },
  {
   "cell_type": "code",
   "execution_count": 105,
   "metadata": {},
   "outputs": [],
   "source": [
    "def cell_decomp(r_map, d_level = 1):\n",
    "\n",
    "    G = graph.SpatialWeightedGraph()\n",
    "\n",
    "    depth = r_map.shape[0] // d_level\n",
    "    rows = r_map.shape[1] // d_level\n",
    "    cols = r_map.shape[2] // d_level\n",
    "\n",
    "    matrix = np.zeros((depth, rows, cols), dtype=np.uint8)\n",
    "\n",
    "    for d in range(depth):\n",
    "        for y in range(rows):\n",
    "            for x in range(cols):\n",
    "                if 1 in r_map[d * d_level: (1 + d) * d_level, y * d_level: (1 + y) * d_level, x * d_level: (1 + x) * d_level]:\n",
    "                    matrix[d, y, x] = 1\n",
    "                else:\n",
    "                    G.add_vertex((d, y, x))\n",
    "\n",
    "                    \n",
    "    matrix = np.pad(matrix, 1, constant_values=-1)\n",
    "    \n",
    "    for d in range(depth):\n",
    "        for y in range(1, rows):\n",
    "            for x in range(1, cols):\n",
    "                if matrix[d, y, x] == 0:\n",
    "                    for i in range(1):\n",
    "                        for j in range(-1, 2):\n",
    "                            for k in range(-1, 2):\n",
    "                                if matrix[d+i, y+j, x+k] == 0 and not [i == j == k == 0]:\n",
    "                                    \n",
    "                                    G.add_edge((G.get_index((d, y - 1, x - 1))), G.get_index((d+i, y+j - 1, x+k-1)))\n",
    "    \n",
    "\n",
    "\n",
    "    return G"
   ]
  },
  {
   "cell_type": "code",
   "execution_count": 114,
   "metadata": {},
   "outputs": [
    {
     "ename": "TypeError",
     "evalue": "SpatialGraph.render2D() missing 1 required positional argument: 'ax'",
     "output_type": "error",
     "traceback": [
      "\u001b[1;31m---------------------------------------------------------------------------\u001b[0m",
      "\u001b[1;31mTypeError\u001b[0m                                 Traceback (most recent call last)",
      "\u001b[1;32mc:\\Users\\Denis\\Desktop\\8 Sem\\UIR\\pyrob\\src\\pyrob\\cell_decomp.ipynb Cell 4\u001b[0m in \u001b[0;36m<module>\u001b[1;34m\u001b[0m\n\u001b[0;32m      <a href='vscode-notebook-cell:/c%3A/Users/Denis/Desktop/8%20Sem/UIR/pyrob/src/pyrob/cell_decomp.ipynb#W3sZmlsZQ%3D%3D?line=1'>2</a>\u001b[0m Gr \u001b[39m=\u001b[39m cell_decomp(rob_map)\n\u001b[0;32m      <a href='vscode-notebook-cell:/c%3A/Users/Denis/Desktop/8%20Sem/UIR/pyrob/src/pyrob/cell_decomp.ipynb#W3sZmlsZQ%3D%3D?line=2'>3</a>\u001b[0m Gr\u001b[39m.\u001b[39mget_index((\u001b[39m0\u001b[39m, \u001b[39m0\u001b[39m, \u001b[39m0\u001b[39m))\n\u001b[1;32m----> <a href='vscode-notebook-cell:/c%3A/Users/Denis/Desktop/8%20Sem/UIR/pyrob/src/pyrob/cell_decomp.ipynb#W3sZmlsZQ%3D%3D?line=3'>4</a>\u001b[0m Gr\u001b[39m.\u001b[39;49mrender2D()\n",
      "\u001b[1;31mTypeError\u001b[0m: SpatialGraph.render2D() missing 1 required positional argument: 'ax'"
     ]
    }
   ],
   "source": [
    "\n",
    "Gr = graph.SpatialWeightedGraph()\n",
    "Gr = cell_decomp(rob_map)\n",
    "Gr.get_index((0, 0, 0))\n",
    "Gr.render2D()"
   ]
  },
  {
   "cell_type": "code",
   "execution_count": null,
   "metadata": {},
   "outputs": [],
   "source": []
  }
 ],
 "metadata": {
  "kernelspec": {
   "display_name": "Python 3",
   "language": "python",
   "name": "python3"
  },
  "language_info": {
   "codemirror_mode": {
    "name": "ipython",
    "version": 3
   },
   "file_extension": ".py",
   "mimetype": "text/x-python",
   "name": "python",
   "nbconvert_exporter": "python",
   "pygments_lexer": "ipython3",
   "version": "3.10.1"
  },
  "orig_nbformat": 4
 },
 "nbformat": 4,
 "nbformat_minor": 2
}
